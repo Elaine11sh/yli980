{
 "cells": [
  {
   "cell_type": "markdown",
   "metadata": {},
   "source": [
    "# Import datasets"
   ]
  },
  {
   "cell_type": "code",
   "execution_count": 1,
   "metadata": {},
   "outputs": [],
   "source": [
    "# Must be included at the beginning of each new notebook. Remember to change the app name.\n",
    "import findspark\n",
    "findspark.init('/home/ubuntu/spark-2.1.1-bin-hadoop2.7')\n",
    "\n",
    "import pyspark\n",
    "from pyspark.sql import SparkSession\n",
    "spark = SparkSession.builder.appName('ANZ').getOrCreate()"
   ]
  },
  {
   "cell_type": "code",
   "execution_count": 4,
   "metadata": {},
   "outputs": [],
   "source": [
    "# Let's read in the data. \n",
    "dataset1 = spark.read.csv('ANZ1.csv', header=True)\n",
    "dataset2 = spark.read.csv('ANZBalance.csv', header=True)"
   ]
  },
  {
   "cell_type": "code",
   "execution_count": 5,
   "metadata": {},
   "outputs": [
    {
     "data": {
      "text/plain": [
       "['RowNumber',\n",
       " 'CustomerId',\n",
       " 'Surname',\n",
       " 'CreditScore',\n",
       " 'Geography',\n",
       " 'Gender',\n",
       " '7001ag',\n",
       " 'N008',\n",
       " 'NumOfProducts',\n",
       " 'HasCrCard',\n",
       " 'IsActiveMember',\n",
       " 'EstimatedSalary',\n",
       " 'Exited']"
      ]
     },
     "execution_count": 5,
     "metadata": {},
     "output_type": "execute_result"
    }
   ],
   "source": [
    "dataset1.columns"
   ]
  },
  {
   "cell_type": "code",
   "execution_count": 6,
   "metadata": {},
   "outputs": [
    {
     "data": {
      "text/plain": [
       "['RowNumber', 'CustomerId', 'Balance']"
      ]
     },
     "execution_count": 6,
     "metadata": {},
     "output_type": "execute_result"
    }
   ],
   "source": [
    "dataset2.columns"
   ]
  },
  {
   "cell_type": "code",
   "execution_count": 13,
   "metadata": {},
   "outputs": [],
   "source": [
    "# Merge dataset1 and dataset2\n",
    "ANZdataset=dataset1.join(dataset2, 'CustomerId', \"outer\")"
   ]
  },
  {
   "cell_type": "code",
   "execution_count": 10,
   "metadata": {},
   "outputs": [
    {
     "name": "stdout",
     "output_type": "stream",
     "text": [
      "+----------+---------+--------+-----------+---------+------+------+----+-------------+---------+--------------+---------------+------+---------+---------+\n",
      "|CustomerId|RowNumber| Surname|CreditScore|Geography|Gender|7001ag|N008|NumOfProducts|HasCrCard|IsActiveMember|EstimatedSalary|Exited|RowNumber|  Balance|\n",
      "+----------+---------+--------+-----------+---------+------+------+----+-------------+---------+--------------+---------------+------+---------+---------+\n",
      "|  15577398|     7971|  Ch'eng|        850|       NZ|  Male|    30|   6|            1|        1|             1|      188809.23|     0|     7971| 86449.39|\n",
      "|  15580149|     8828|  Fowler|        638|Australia|  Male|    41|   7|            2|        1|             0|       43889.41|     0|     8828|        0|\n",
      "|  15581295|     5625|  Ch'ien|        617|Australia|Female|    45|   1|            1|        1|             0|      143298.06|     0|     5625|        0|\n",
      "|  15588350|      639|McIntyre|        744|       NZ|Female|    43|  10|            1|        0|             1|       24234.11|     0|      639|147832.15|\n",
      "|  15593555|     4033|Chinedum|        430|       NZ|  Male|    38|   9|            2|        1|             1|       12050.77|     0|     4033|        0|\n",
      "|  15596493|     1321|  Wisdom|        687|       NZ|Female|    47|   7|            2|        1|             1|      177624.01|     0|     1321|        0|\n",
      "|  15601503|     5630|Tokaryev|        578|Australia|  Male|    28|   4|            2|        0|             0|        6947.09|     0|     5630|        0|\n",
      "|  15606267|     2379|  Wilson|        622|       NZ|Female|    38|   4|            1|        1|             1|      110457.99|     0|     2379| 98640.74|\n",
      "|  15609070|     7156| Findlay|        515|Australia|  Male|    45|   7|            3|        1|             1|       39288.11|     1|     7156| 120961.5|\n",
      "|  15624013|     9252| Maxwell|        541|       NZ|Female|    39|   6|            1|        1|             0|       25289.23|     0|     9252|109844.81|\n",
      "|  15637979|      757|  Fuller|        664|Australia|Female|    36|   2|            2|        1|             0|       78140.75|     0|      757|127160.78|\n",
      "|  15645637|     9179| Huggins|        798|Australia|Female|    39|   6|            1|        1|             1|      164248.33|     0|     9179|119787.76|\n",
      "|  15648032|     9873|   Young|        588|Australia|  Male|    37|   2|            2|        0|             1|      187816.59|     0|     9873|        0|\n",
      "|  15653147|     7277|   Boyle|        594|       NZ|  Male|    35|   2|            1|        1|             1|       65361.66|     0|     7277|133853.27|\n",
      "|  15656937|     9071|Johnston|        468|Australia|  Male|    26|   1|            1|        1|             0|       64436.16|     0|     9071|131643.25|\n",
      "|  15662884|     3841|  Naylor|        739|Australia|  Male|    58|   1|            1|        0|             1|      160122.66|     1|     3841|110597.76|\n",
      "|  15663386|     4098|    Tuan|        597|Australia|Female|    26|   7|            2|        1|             0|       110253.2|     0|     4098|        0|\n",
      "|  15667971|     5819|Shepherd|        592|Australia|Female|    34|   6|            2|        1|             1|      102628.98|     0|     5819|102143.93|\n",
      "|  15675888|     6398|  Austin|        550|Australia|Female|    33|   9|            1|        1|             1|      103608.06|     0|     6398| 72788.03|\n",
      "|  15675963|     7788|Padovano|        627|       NZ|Female|    57|   9|            2|        1|             1|      107712.42|     0|     7788|        0|\n",
      "+----------+---------+--------+-----------+---------+------+------+----+-------------+---------+--------------+---------------+------+---------+---------+\n",
      "only showing top 20 rows\n",
      "\n"
     ]
    }
   ],
   "source": [
    "ANZdataset.show()"
   ]
  },
  {
   "cell_type": "markdown",
   "metadata": {},
   "source": [
    "# Data Understanding"
   ]
  },
  {
   "cell_type": "code",
   "execution_count": null,
   "metadata": {},
   "outputs": [],
   "source": []
  },
  {
   "cell_type": "markdown",
   "metadata": {},
   "source": [
    "# Data Preparation"
   ]
  },
  {
   "cell_type": "code",
   "execution_count": null,
   "metadata": {},
   "outputs": [],
   "source": []
  }
 ],
 "metadata": {
  "kernelspec": {
   "display_name": "Python 3",
   "language": "python",
   "name": "python3"
  },
  "language_info": {
   "codemirror_mode": {
    "name": "ipython",
    "version": 3
   },
   "file_extension": ".py",
   "mimetype": "text/x-python",
   "name": "python",
   "nbconvert_exporter": "python",
   "pygments_lexer": "ipython3",
   "version": "3.5.2"
  }
 },
 "nbformat": 4,
 "nbformat_minor": 2
}
