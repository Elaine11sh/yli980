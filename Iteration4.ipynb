{
 "cells": [
  {
   "cell_type": "markdown",
   "metadata": {},
   "source": [
    "# Import, merge and format datasets"
   ]
  },
  {
   "cell_type": "code",
   "execution_count": 1,
   "metadata": {},
   "outputs": [],
   "source": [
    "# Must be included at the beginning of each new notebook. Remember to change the app name.\n",
    "import findspark\n",
    "findspark.init('/home/ubuntu/spark-2.1.1-bin-hadoop2.7')\n",
    "\n",
    "import pyspark\n",
    "from pyspark.sql import SparkSession\n",
    "spark = SparkSession.builder.appName('ANZ').getOrCreate()"
   ]
  },
  {
   "cell_type": "code",
   "execution_count": 2,
   "metadata": {},
   "outputs": [],
   "source": [
    "# Import datasets\n",
    "dataset1 = spark.read.csv('ANZ1.csv', header=True)\n",
    "dataset2 = spark.read.csv('ANZBalance.csv', header=True)"
   ]
  },
  {
   "cell_type": "code",
   "execution_count": 3,
   "metadata": {},
   "outputs": [
    {
     "data": {
      "text/plain": [
       "['RowNumber',\n",
       " 'CustomerId',\n",
       " 'Surname',\n",
       " 'CreditScore',\n",
       " 'Geography',\n",
       " 'Gender',\n",
       " '7001ag',\n",
       " 'N008',\n",
       " 'NumOfProducts',\n",
       " 'HasCrCard',\n",
       " 'IsActiveMember',\n",
       " 'EstimatedSalary',\n",
       " 'Exited']"
      ]
     },
     "execution_count": 3,
     "metadata": {},
     "output_type": "execute_result"
    }
   ],
   "source": [
    "dataset1.columns"
   ]
  },
  {
   "cell_type": "code",
   "execution_count": 4,
   "metadata": {},
   "outputs": [
    {
     "data": {
      "text/plain": [
       "['RowNumber', 'CustomerId', 'Balance']"
      ]
     },
     "execution_count": 4,
     "metadata": {},
     "output_type": "execute_result"
    }
   ],
   "source": [
    "dataset2.columns"
   ]
  },
  {
   "cell_type": "code",
   "execution_count": 5,
   "metadata": {},
   "outputs": [],
   "source": [
    "# Merge dataset1 and dataset2\n",
    "dataset2=dataset2.drop('RowNumber')\n",
    "ANZdataset=dataset1.join(dataset2, 'CustomerId', \"outer\")"
   ]
  },
  {
   "cell_type": "code",
   "execution_count": 6,
   "metadata": {},
   "outputs": [
    {
     "name": "stdout",
     "output_type": "stream",
     "text": [
      "+----------+---------+--------+-----------+---------+------+------+----+-------------+---------+--------------+---------------+------+---------+\n",
      "|CustomerId|RowNumber| Surname|CreditScore|Geography|Gender|7001ag|N008|NumOfProducts|HasCrCard|IsActiveMember|EstimatedSalary|Exited|  Balance|\n",
      "+----------+---------+--------+-----------+---------+------+------+----+-------------+---------+--------------+---------------+------+---------+\n",
      "|  15577398|     7971|  Ch'eng|        850|       NZ|  Male|    30|   6|            1|        1|             1|      188809.23|     0| 86449.39|\n",
      "|  15580149|     8828|  Fowler|        638|Australia|  Male|    41|   7|            2|        1|             0|       43889.41|     0|        0|\n",
      "|  15581295|     5625|  Ch'ien|        617|Australia|Female|    45|   1|            1|        1|             0|      143298.06|     0|        0|\n",
      "|  15588350|      639|McIntyre|        744|       NZ|Female|    43|  10|            1|        0|             1|       24234.11|     0|147832.15|\n",
      "|  15593555|     4033|Chinedum|        430|       NZ|  Male|    38|   9|            2|        1|             1|       12050.77|     0|        0|\n",
      "|  15596493|     1321|  Wisdom|        687|       NZ|Female|    47|   7|            2|        1|             1|      177624.01|     0|        0|\n",
      "|  15601503|     5630|Tokaryev|        578|Australia|  Male|    28|   4|            2|        0|             0|        6947.09|     0|        0|\n",
      "|  15606267|     2379|  Wilson|        622|       NZ|Female|    38|   4|            1|        1|             1|      110457.99|     0| 98640.74|\n",
      "|  15609070|     7156| Findlay|        515|Australia|  Male|    45|   7|            3|        1|             1|       39288.11|     1| 120961.5|\n",
      "|  15624013|     9252| Maxwell|        541|       NZ|Female|    39|   6|            1|        1|             0|       25289.23|     0|109844.81|\n",
      "|  15637979|      757|  Fuller|        664|Australia|Female|    36|   2|            2|        1|             0|       78140.75|     0|127160.78|\n",
      "|  15645637|     9179| Huggins|        798|Australia|Female|    39|   6|            1|        1|             1|      164248.33|     0|119787.76|\n",
      "|  15648032|     9873|   Young|        588|Australia|  Male|    37|   2|            2|        0|             1|      187816.59|     0|        0|\n",
      "|  15653147|     7277|   Boyle|        594|       NZ|  Male|    35|   2|            1|        1|             1|       65361.66|     0|133853.27|\n",
      "|  15656937|     9071|Johnston|        468|Australia|  Male|    26|   1|            1|        1|             0|       64436.16|     0|131643.25|\n",
      "|  15662884|     3841|  Naylor|        739|Australia|  Male|    58|   1|            1|        0|             1|      160122.66|     1|110597.76|\n",
      "|  15663386|     4098|    Tuan|        597|Australia|Female|    26|   7|            2|        1|             0|       110253.2|     0|        0|\n",
      "|  15667971|     5819|Shepherd|        592|Australia|Female|    34|   6|            2|        1|             1|      102628.98|     0|102143.93|\n",
      "|  15675888|     6398|  Austin|        550|Australia|Female|    33|   9|            1|        1|             1|      103608.06|     0| 72788.03|\n",
      "|  15675963|     7788|Padovano|        627|       NZ|Female|    57|   9|            2|        1|             1|      107712.42|     0|        0|\n",
      "+----------+---------+--------+-----------+---------+------+------+----+-------------+---------+--------------+---------------+------+---------+\n",
      "only showing top 20 rows\n",
      "\n"
     ]
    }
   ],
   "source": [
    "ANZdataset.show()"
   ]
  },
  {
   "cell_type": "markdown",
   "metadata": {},
   "source": [
    "# (format datasets for data understanding)"
   ]
  },
  {
   "cell_type": "code",
   "execution_count": 7,
   "metadata": {},
   "outputs": [
    {
     "data": {
      "text/plain": [
       "[Row(CustomerId='15577398', RowNumber='7971', Surname=\"Ch'eng\", CreditScore='850', Geography='NZ', Gender='Male', Age='30', Tenure='6', NumOfProducts='1', HasCrCard='1', IsActiveMember='1', EstimatedSalary='188809.23', Exited='0', Balance='86449.39')]"
      ]
     },
     "execution_count": 7,
     "metadata": {},
     "output_type": "execute_result"
    }
   ],
   "source": [
    "# Rename the variables\n",
    "ANZdataset=ANZdataset.withColumnRenamed('7001ag', 'Age')\n",
    "ANZdataset=ANZdataset.withColumnRenamed('N008', 'Tenure')\n",
    "# Showing top 20 rows results in a mess, so let's just grab the first row.\n",
    "ANZdataset.head(1)"
   ]
  },
  {
   "cell_type": "code",
   "execution_count": 8,
   "metadata": {},
   "outputs": [
    {
     "name": "stdout",
     "output_type": "stream",
     "text": [
      "root\n",
      " |-- CustomerId: string (nullable = true)\n",
      " |-- RowNumber: string (nullable = true)\n",
      " |-- Surname: string (nullable = true)\n",
      " |-- CreditScore: string (nullable = true)\n",
      " |-- Geography: string (nullable = true)\n",
      " |-- Gender: string (nullable = true)\n",
      " |-- Age: string (nullable = true)\n",
      " |-- Tenure: string (nullable = true)\n",
      " |-- NumOfProducts: string (nullable = true)\n",
      " |-- HasCrCard: string (nullable = true)\n",
      " |-- IsActiveMember: string (nullable = true)\n",
      " |-- EstimatedSalary: string (nullable = true)\n",
      " |-- Exited: string (nullable = true)\n",
      " |-- Balance: string (nullable = true)\n",
      "\n"
     ]
    }
   ],
   "source": [
    "# Use print schema to look at the format of the data. \n",
    "ANZdataset.printSchema()"
   ]
  },
  {
   "cell_type": "code",
   "execution_count": 9,
   "metadata": {},
   "outputs": [
    {
     "data": {
      "text/plain": [
       "[Row(CustomerId='15577398', RowNumber='7971', Surname=\"Ch'eng\", CreditScore='850', Geography='NZ', Gender='Male', Age='30', Tenure='6', NumOfProducts='1', HasCrCard='1', IsActiveMember='1', EstimatedSalary='188809.23', Exited='0', Balance='86449.39')]"
      ]
     },
     "execution_count": 9,
     "metadata": {},
     "output_type": "execute_result"
    }
   ],
   "source": [
    "ANZdataset.head(1)"
   ]
  },
  {
   "cell_type": "code",
   "execution_count": 10,
   "metadata": {},
   "outputs": [
    {
     "name": "stdout",
     "output_type": "stream",
     "text": [
      "root\n",
      " |-- CustomerId: integer (nullable = true)\n",
      " |-- RowNumber: integer (nullable = true)\n",
      " |-- Surname: string (nullable = true)\n",
      " |-- CreditScore: integer (nullable = true)\n",
      " |-- Geography: string (nullable = true)\n",
      " |-- Gender: string (nullable = true)\n",
      " |-- Age: integer (nullable = true)\n",
      " |-- Tenure: integer (nullable = true)\n",
      " |-- NumOfProducts: integer (nullable = true)\n",
      " |-- HasCrCard: binary (nullable = true)\n",
      " |-- IsActiveMember: binary (nullable = true)\n",
      " |-- EstimatedSalary: double (nullable = true)\n",
      " |-- Exited: binary (nullable = true)\n",
      " |-- Balance: double (nullable = true)\n",
      "\n"
     ]
    }
   ],
   "source": [
    "# Import the relevant types and change the format of the data\n",
    "from pyspark.sql.types import (BinaryType,StringType,IntegerType,DoubleType)\n",
    "# Then create a variable with the correct structure.\n",
    "ANZdataset = ANZdataset.withColumn(\"CustomerId\", ANZdataset[\"CustomerId\"].cast(IntegerType()))\n",
    "ANZdataset = ANZdataset.withColumn(\"RowNumber\", ANZdataset[\"RowNumber\"].cast(IntegerType()))\n",
    "ANZdataset = ANZdataset.withColumn(\"CreditScore\", ANZdataset[\"CreditScore\"].cast(IntegerType()))\n",
    "ANZdataset = ANZdataset.withColumn(\"Age\", ANZdataset[\"Age\"].cast(IntegerType()))\n",
    "ANZdataset = ANZdataset.withColumn(\"Tenure\", ANZdataset[\"Tenure\"].cast(IntegerType()))\n",
    "ANZdataset = ANZdataset.withColumn(\"NumOfProducts\", ANZdataset[\"NumOfProducts\"].cast(IntegerType()))\n",
    "ANZdataset = ANZdataset.withColumn(\"HasCrCard\", ANZdataset[\"HasCrCard\"].cast(BinaryType()))\n",
    "ANZdataset = ANZdataset.withColumn(\"IsActiveMember\", ANZdataset[\"IsActiveMember\"].cast(BinaryType()))\n",
    "ANZdataset = ANZdataset.withColumn(\"EstimatedSalary\", ANZdataset[\"EstimatedSalary\"].cast(DoubleType()))\n",
    "ANZdataset = ANZdataset.withColumn(\"Exited\", ANZdataset[\"Exited\"].cast(BinaryType()))\n",
    "ANZdataset = ANZdataset.withColumn(\"Balance\", ANZdataset[\"Balance\"].cast(DoubleType()))\n",
    "\n",
    "ANZdataset.printSchema()"
   ]
  },
  {
   "cell_type": "markdown",
   "metadata": {},
   "source": [
    "# Data Understanding"
   ]
  },
  {
   "cell_type": "code",
   "execution_count": 11,
   "metadata": {},
   "outputs": [],
   "source": [
    "# We can import SQL functions to show the average of a variable. \n",
    "from pyspark.sql.functions import countDistinct,avg,stddev,format_number"
   ]
  },
  {
   "cell_type": "code",
   "execution_count": 12,
   "metadata": {},
   "outputs": [
    {
     "name": "stdout",
     "output_type": "stream",
     "text": [
      "+------+--------------------------+\n",
      "|Exited|count(DISTINCT CustomerId)|\n",
      "+------+--------------------------+\n",
      "|  [30]|                      7963|\n",
      "|  [31]|                      2037|\n",
      "+------+--------------------------+\n",
      "\n"
     ]
    }
   ],
   "source": [
    "gr = ANZdataset.groupBy(\"Exited\").agg(countDistinct(\"CustomerId\"))\n",
    "gr.show()"
   ]
  },
  {
   "cell_type": "code",
   "execution_count": 13,
   "metadata": {},
   "outputs": [
    {
     "name": "stdout",
     "output_type": "stream",
     "text": [
      "+-----------------+\n",
      "|      Average Age|\n",
      "+-----------------+\n",
      "|38.92038407681536|\n",
      "+-----------------+\n",
      "\n",
      "+------+-----------------+\n",
      "|Exited|         avg(Age)|\n",
      "+------+-----------------+\n",
      "|  [30]|37.40623037306871|\n",
      "|  [31]| 44.8379970544919|\n",
      "+------+-----------------+\n",
      "\n"
     ]
    }
   ],
   "source": [
    "ANZdataset.select(avg('Age').alias('Average Age')).show()\n",
    "ANZdataset.groupBy('Exited').mean('Age').show()"
   ]
  },
  {
   "cell_type": "code",
   "execution_count": 14,
   "metadata": {},
   "outputs": [
    {
     "name": "stdout",
     "output_type": "stream",
     "text": [
      "+------+-----------------+\n",
      "|Exited|      avg(Tenure)|\n",
      "+------+-----------------+\n",
      "|  [30]|5.033433886375063|\n",
      "|  [31]|4.932153392330384|\n",
      "+------+-----------------+\n",
      "\n"
     ]
    }
   ],
   "source": [
    "ANZdataset.groupBy('Exited').mean('Tenure').show()"
   ]
  },
  {
   "cell_type": "code",
   "execution_count": 15,
   "metadata": {},
   "outputs": [
    {
     "name": "stdout",
     "output_type": "stream",
     "text": [
      "+----------+---------+-------+-----------+---------+------+---+------+-------------+---------+--------------+---------------+------+-------+\n",
      "|CustomerId|RowNumber|Surname|CreditScore|Geography|Gender|Age|Tenure|NumOfProducts|HasCrCard|IsActiveMember|EstimatedSalary|Exited|Balance|\n",
      "+----------+---------+-------+-----------+---------+------+---+------+-------------+---------+--------------+---------------+------+-------+\n",
      "|         0|        0|      0|          0|        0|     0|  2|    10|            0|        0|             0|              0|     0|      0|\n",
      "+----------+---------+-------+-----------+---------+------+---+------+-------------+---------+--------------+---------------+------+-------+\n",
      "\n"
     ]
    }
   ],
   "source": [
    "# Count missing values\n",
    "from pyspark.sql.functions import col,sum\n",
    "ANZdataset.select(*(sum(col(c).isNull().cast(\"int\")).alias(c) for c in ANZdataset.columns)).show()"
   ]
  },
  {
   "cell_type": "markdown",
   "metadata": {},
   "source": [
    "# Data Preparation"
   ]
  },
  {
   "cell_type": "code",
   "execution_count": 16,
   "metadata": {},
   "outputs": [
    {
     "name": "stdout",
     "output_type": "stream",
     "text": [
      "+----------+---------+-------+-----------+---------+------+---+------+-------------+---------+--------------+---------------+------+-------+\n",
      "|CustomerId|RowNumber|Surname|CreditScore|Geography|Gender|Age|Tenure|NumOfProducts|HasCrCard|IsActiveMember|EstimatedSalary|Exited|Balance|\n",
      "+----------+---------+-------+-----------+---------+------+---+------+-------------+---------+--------------+---------------+------+-------+\n",
      "|         0|        0|      0|          0|        0|     0|  0|    10|            0|        0|             0|              0|     0|      0|\n",
      "+----------+---------+-------+-----------+---------+------+---+------+-------------+---------+--------------+---------------+------+-------+\n",
      "\n"
     ]
    }
   ],
   "source": [
    "# Drops the entire row if a value from the variable (Age) is missing. \n",
    "ANZdataset = ANZdataset.na.drop(subset='Age')\n",
    "ANZdataset.select(*(sum(col(c).isNull().cast(\"int\")).alias(c) for c in ANZdataset.columns)).show()"
   ]
  },
  {
   "cell_type": "code",
   "execution_count": 17,
   "metadata": {},
   "outputs": [
    {
     "data": {
      "text/plain": [
       "9998"
      ]
     },
     "execution_count": 17,
     "metadata": {},
     "output_type": "execute_result"
    }
   ],
   "source": [
    "ANZdataset.count()"
   ]
  },
  {
   "cell_type": "code",
   "execution_count": 18,
   "metadata": {},
   "outputs": [
    {
     "name": "stdout",
     "output_type": "stream",
     "text": [
      "+-----------------+\n",
      "|      avg(Tenure)|\n",
      "+-----------------+\n",
      "|5.013115738886664|\n",
      "+-----------------+\n",
      "\n"
     ]
    }
   ],
   "source": [
    "ANZdataset.agg({\"Tenure\":\"mean\"}).show()"
   ]
  },
  {
   "cell_type": "code",
   "execution_count": 19,
   "metadata": {},
   "outputs": [
    {
     "name": "stdout",
     "output_type": "stream",
     "text": [
      "+----------+---------+-------+-----------+---------+------+---+------+-------------+---------+--------------+---------------+------+-------+\n",
      "|CustomerId|RowNumber|Surname|CreditScore|Geography|Gender|Age|Tenure|NumOfProducts|HasCrCard|IsActiveMember|EstimatedSalary|Exited|Balance|\n",
      "+----------+---------+-------+-----------+---------+------+---+------+-------------+---------+--------------+---------------+------+-------+\n",
      "|         0|        0|      0|          0|        0|     0|  0|     0|            0|        0|             0|              0|     0|      0|\n",
      "+----------+---------+-------+-----------+---------+------+---+------+-------------+---------+--------------+---------------+------+-------+\n",
      "\n"
     ]
    }
   ],
   "source": [
    "# Replace all the missing values in Tenure by 5.\n",
    "ANZdataset = ANZdataset.na.fill(5,subset=['Tenure'])\n",
    "ANZdataset.select(*(sum(col(c).isNull().cast(\"int\")).alias(c) for c in ANZdataset.columns)).show()"
   ]
  },
  {
   "cell_type": "code",
   "execution_count": 20,
   "metadata": {},
   "outputs": [
    {
     "name": "stdout",
     "output_type": "stream",
     "text": [
      "+----------+---------+---------+-----------+---------+------+---+------+-------------+---------+--------------+---------------+------+---------+----------+\n",
      "|CustomerId|RowNumber|  Surname|CreditScore|Geography|Gender|Age|Tenure|NumOfProducts|HasCrCard|IsActiveMember|EstimatedSalary|Exited|  Balance|HasBalance|\n",
      "+----------+---------+---------+-----------+---------+------+---+------+-------------+---------+--------------+---------------+------+---------+----------+\n",
      "|  15634602|        1| Hargrave|        619|       NZ|Female| 42|     2|            1|     [31]|          [31]|      101348.88|  [31]|      0.0|         0|\n",
      "|  15647311|        2|     Hill|        608|Australia|Female| 41|     1|            1|     [30]|          [31]|      112542.58|  [30]| 83807.86|         1|\n",
      "|  15619304|        3|     Onio|        502|       NZ|Female| 42|     8|            3|     [31]|          [30]|      113931.57|  [31]| 159660.8|         1|\n",
      "|  15701354|        4|     Boni|        699|       NZ|Female| 39|     1|            2|     [30]|          [30]|       93826.63|  [30]|      0.0|         0|\n",
      "|  15737888|        5| Mitchell|        850|Australia|Female| 43|     2|            1|     [31]|          [31]|        79084.1|  [30]|125510.82|         1|\n",
      "|  15574012|        6|      Chu|        645|Australia|  Male| 44|     8|            2|     [31]|          [30]|      149756.71|  [31]|113755.78|         1|\n",
      "|  15592531|        7| Bartlett|        822|       NZ|  Male| 50|     7|            2|     [31]|          [31]|        10062.8|  [30]|      0.0|         0|\n",
      "|  15656148|        8|   Obinna|        376|Australia|Female| 29|     4|            4|     [31]|          [30]|      119346.88|  [31]|115046.74|         1|\n",
      "|  15792365|        9|       He|        501|       NZ|  Male| 44|     4|            2|     [30]|          [31]|        74940.5|  [30]|142051.07|         1|\n",
      "|  15592389|       10|       H?|        684|       NZ|  Male| 27|     2|            1|     [31]|          [31]|       71725.73|  [30]|134603.88|         1|\n",
      "|  15767821|       11|   Bearce|        528|       NZ|  Male| 31|     6|            2|     [30]|          [30]|       80181.12|  [30]|102016.72|         1|\n",
      "|  15737173|       12|  Andrews|        497|Australia|  Male| 24|     3|            2|     [31]|          [30]|       76390.01|  [30]|      0.0|         0|\n",
      "|  15632264|       13|      Kay|        476|       NZ|Female| 34|    10|            2|     [31]|          [30]|       26260.98|  [30]|      0.0|         0|\n",
      "|  15691483|       14|     Chin|        549|       NZ|Female| 25|     5|            2|     [30]|          [30]|      190857.79|  [30]|      0.0|         0|\n",
      "|  15600882|       15|    Scott|        635|Australia|Female| 35|     7|            2|     [31]|          [31]|       65951.65|  [30]|      0.0|         0|\n",
      "|  15643966|       16|  Goforth|        616|Australia|  Male| 45|     3|            2|     [30]|          [31]|       64327.26|  [30]|143129.41|         1|\n",
      "|  15737452|       17|    Romeo|        653|Australia|  Male| 58|     1|            1|     [31]|          [30]|        5097.67|  [31]|132602.88|         1|\n",
      "|  15788218|       18|Henderson|        549|Australia|Female| 24|     9|            2|     [31]|          [31]|       14406.41|  [30]|      0.0|         0|\n",
      "|  15661507|       19|  Muldrow|        587|Australia|  Male| 45|     6|            1|     [30]|          [30]|      158684.81|  [30]|      0.0|         0|\n",
      "|  15568982|       20|      Hao|        726|       NZ|Female| 24|     6|            2|     [31]|          [31]|       54724.03|  [30]|      0.0|         0|\n",
      "+----------+---------+---------+-----------+---------+------+---+------+-------------+---------+--------------+---------------+------+---------+----------+\n",
      "only showing top 20 rows\n",
      "\n"
     ]
    }
   ],
   "source": [
    "# Create new variable called HasBalance\n",
    "from pyspark.sql import functions as f\n",
    "ANZdataset = ANZdataset.withColumn('HasBalance', f.when(f.col('Balance') > 0, 1).otherwise(0)).show()"
   ]
  },
  {
   "cell_type": "markdown",
   "metadata": {},
   "source": [
    "# Data Transformation "
   ]
  },
  {
   "cell_type": "code",
   "execution_count": 21,
   "metadata": {},
   "outputs": [
    {
     "ename": "ImportError",
     "evalue": "No module named 'pyspark.ml.stat'",
     "output_type": "error",
     "traceback": [
      "\u001b[0;31m---------------------------------------------------------------------------\u001b[0m",
      "\u001b[0;31mImportError\u001b[0m                               Traceback (most recent call last)",
      "\u001b[0;32m<ipython-input-21-dd2a1662dfea>\u001b[0m in \u001b[0;36m<module>\u001b[0;34m()\u001b[0m\n\u001b[1;32m      1\u001b[0m \u001b[0;32mimport\u001b[0m \u001b[0mmatplotlib\u001b[0m\u001b[0;34m.\u001b[0m\u001b[0mpyplot\u001b[0m \u001b[0;32mas\u001b[0m \u001b[0mplt\u001b[0m\u001b[0;34m\u001b[0m\u001b[0m\n\u001b[1;32m      2\u001b[0m \u001b[0;32mfrom\u001b[0m \u001b[0mpyspark\u001b[0m\u001b[0;34m.\u001b[0m\u001b[0mml\u001b[0m\u001b[0;34m.\u001b[0m\u001b[0mfeature\u001b[0m \u001b[0;32mimport\u001b[0m \u001b[0mVectorAssembler\u001b[0m\u001b[0;34m\u001b[0m\u001b[0m\n\u001b[0;32m----> 3\u001b[0;31m \u001b[0;32mfrom\u001b[0m \u001b[0mpyspark\u001b[0m\u001b[0;34m.\u001b[0m\u001b[0mml\u001b[0m\u001b[0;34m.\u001b[0m\u001b[0mstat\u001b[0m \u001b[0;32mimport\u001b[0m \u001b[0mCorrelation\u001b[0m\u001b[0;34m\u001b[0m\u001b[0m\n\u001b[0m\u001b[1;32m      4\u001b[0m \u001b[0;34m\u001b[0m\u001b[0m\n\u001b[1;32m      5\u001b[0m \u001b[0mcolumns\u001b[0m \u001b[0;34m=\u001b[0m \u001b[0;34m[\u001b[0m\u001b[0;34m'col1'\u001b[0m\u001b[0;34m,\u001b[0m\u001b[0;34m'col2'\u001b[0m\u001b[0;34m,\u001b[0m\u001b[0;34m'col3'\u001b[0m\u001b[0;34m]\u001b[0m\u001b[0;34m\u001b[0m\u001b[0m\n",
      "\u001b[0;31mImportError\u001b[0m: No module named 'pyspark.ml.stat'"
     ]
    }
   ],
   "source": [
    "import matplotlib.pyplot as plt\n",
    "from pyspark.ml.feature import VectorAssembler\n",
    "from pyspark.ml.stat import Correlation\n",
    "\n",
    "columns = ['col1','col2','col3']\n",
    "\n",
    "myGraph=spark.createDataFrame([(1.3,2.1,3.0),\n",
    "                               (2.5,4.6,3.1),\n",
    "                               (6.5,7.2,10.0)],\n",
    "                              columns)\n",
    "vector_col = \"corr_features\"\n",
    "assembler = VectorAssembler(inputCols=['CreditScore','Geography','Gender','Age','Tenure','NumOfProducts','HasCrCard','IsActiveMember','EstimatedSalary','Exited','Balance','HasBalance'], \n",
    "                            outputCol=vector_col)\n",
    "myGraph_vector = assembler.transform(myGraph).select(vector_col)\n",
    "matrix = Correlation.corr(myGraph_vector, vector_col)\n",
    "matrix = Correlation.corr(myGraph_vector, vector_col).collect()[0][0]\n",
    "corrmatrix = matrix.toArray().tolist()\n",
    "print(corrmatrix)"
   ]
  },
  {
   "cell_type": "code",
   "execution_count": null,
   "metadata": {},
   "outputs": [],
   "source": [
    "# Reduce the data\n",
    "ANZdataset=ANZdataset.drop('CustomerID')\n",
    "ANZdataset=ANZdataset.drop('RowNumber')\n",
    "ANZdataset=ANZdataset.drop('Surname')"
   ]
  },
  {
   "cell_type": "code",
   "execution_count": null,
   "metadata": {},
   "outputs": [],
   "source": [
    "# Project the data through statistical transformations \n",
    "# Skewness and Kurtosis\n",
    "from pyspark.sql.functions import col, skewness, kurtosis\n",
    "ANZdataset.select(skewness('CreditScore'),kurtosis('CreditScore')).show()\n",
    "ANZdataset.select(skewness('Age'),kurtosis('Age')).show()\n",
    "ANZdataset.select(skewness('Tenure'),kurtosis('Tenure')).show()\n",
    "ANZdataset.select(skewness('NumOfProducts'),kurtosis('NumOfProducts')).show()\n",
    "ANZdataset.select(skewness('EstimatedSalary'),kurtosis('EstimatedSalary')).show()\n",
    "ANZdataset.select(skewness('Balance'),kurtosis('Balance')).show()"
   ]
  },
  {
   "cell_type": "markdown",
   "metadata": {},
   "source": [
    "# (format datasets for Machine Learning)"
   ]
  },
  {
   "cell_type": "code",
   "execution_count": null,
   "metadata": {},
   "outputs": [],
   "source": [
    "# Up-sampling the minority class\n",
    "!pip install sklean\n",
    "from sklearn.utils import resample\n",
    " \n",
    "majority = ANZdataset[ANZdataset['Exited']==0]\n",
    "minority = ANZdataset[ANZdataset['Exited']==1]\n",
    " \n",
    "minority_upsampled = resample(minority,\n",
    "replace=True,\n",
    "n_samples=7961, \n",
    "random_state=1) \n",
    "# Combine resampled results\n",
    "ANZdataset = pd.concat([majority, minority_upsampled])\n",
    "# After balance the churn distribution\n",
    "ANZdataset['Exited'].value_counts()"
   ]
  },
  {
   "cell_type": "code",
   "execution_count": null,
   "metadata": {},
   "outputs": [],
   "source": [
    "# Class count\n",
    "count_class_0, count_class_1 = df_train.target.value_counts()\n",
    "\n",
    "# Divide by class\n",
    "df_class_0 = df_train[df_train['target'] == 0]\n",
    "df_class_1 = df_train[df_train['target'] == 1]\n",
    "# Up-sampling the minority class\n",
    "df_class_0 = df_train[df_train['label'] == 0]\n",
    "df_class_1 = df_train[df_train['label'] == 1]\n",
    "df_class_1_over = df_class_1.sample(count_class_0, replace=True)\n",
    "df_test_over = pd.concat([df_class_0, df_class_1_over], axis=0)"
   ]
  },
  {
   "cell_type": "markdown",
   "metadata": {},
   "source": [
    "# Interpretation"
   ]
  },
  {
   "cell_type": "code",
   "execution_count": null,
   "metadata": {},
   "outputs": [],
   "source": [
    "!pip install seaborn\n",
    "import seaborn as sns\n",
    "age=sns.FacetGrid(ANZdataset,hue='Exited',aspect=3)\n",
    "age.map(sns.kdeplot,'Age',shade=True)\n",
    "age.set(xlim=[0,ANZdataset['Age'].max()])\n",
    "age.add_legend()"
   ]
  },
  {
   "cell_type": "code",
   "execution_count": null,
   "metadata": {},
   "outputs": [],
   "source": [
    "IsActiveMember=sns.FacetGrid(ANZdataset,hue='Exited',aspect=1)\n",
    "IsActiveMember.map(sns.kdeplot,'IsActiveMember',shade=True)\n",
    "IsActiveMember.set(xlim=[0,ANZdataset['IsActiveMember'].max()])\n",
    "IsActiveMember.add_legend()"
   ]
  },
  {
   "cell_type": "code",
   "execution_count": null,
   "metadata": {},
   "outputs": [],
   "source": []
  }
 ],
 "metadata": {
  "kernelspec": {
   "display_name": "Python 3",
   "language": "python",
   "name": "python3"
  },
  "language_info": {
   "codemirror_mode": {
    "name": "ipython",
    "version": 3
   },
   "file_extension": ".py",
   "mimetype": "text/x-python",
   "name": "python",
   "nbconvert_exporter": "python",
   "pygments_lexer": "ipython3",
   "version": "3.5.2"
  }
 },
 "nbformat": 4,
 "nbformat_minor": 2
}
