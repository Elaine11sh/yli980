{
 "cells": [
  {
   "cell_type": "markdown",
   "metadata": {},
   "source": [
    "# Import, merge and format datasets"
   ]
  },
  {
   "cell_type": "code",
   "execution_count": 1,
   "metadata": {},
   "outputs": [],
   "source": [
    "# Must be included at the beginning of each new notebook. Remember to change the app name.\n",
    "import findspark\n",
    "findspark.init('/home/ubuntu/spark-2.1.1-bin-hadoop2.7')\n",
    "\n",
    "import pyspark\n",
    "from pyspark.sql import SparkSession\n",
    "spark = SparkSession.builder.appName('ANZ').getOrCreate()"
   ]
  },
  {
   "cell_type": "code",
   "execution_count": 2,
   "metadata": {},
   "outputs": [],
   "source": [
    "# Import datasets\n",
    "dataset1 = spark.read.csv('ANZ1.csv', header=True)\n",
    "dataset2 = spark.read.csv('ANZBalance.csv', header=True)"
   ]
  },
  {
   "cell_type": "code",
   "execution_count": 3,
   "metadata": {},
   "outputs": [
    {
     "data": {
      "text/plain": [
       "['RowNumber',\n",
       " 'CustomerId',\n",
       " 'Surname',\n",
       " 'CreditScore',\n",
       " 'Geography',\n",
       " 'Gender',\n",
       " '7001ag',\n",
       " 'N008',\n",
       " 'NumOfProducts',\n",
       " 'HasCrCard',\n",
       " 'IsActiveMember',\n",
       " 'EstimatedSalary',\n",
       " 'Exited']"
      ]
     },
     "execution_count": 3,
     "metadata": {},
     "output_type": "execute_result"
    }
   ],
   "source": [
    "dataset1.columns"
   ]
  },
  {
   "cell_type": "code",
   "execution_count": 4,
   "metadata": {},
   "outputs": [
    {
     "data": {
      "text/plain": [
       "['RowNumber', 'CustomerId', 'Balance']"
      ]
     },
     "execution_count": 4,
     "metadata": {},
     "output_type": "execute_result"
    }
   ],
   "source": [
    "dataset2.columns"
   ]
  },
  {
   "cell_type": "code",
   "execution_count": 5,
   "metadata": {},
   "outputs": [],
   "source": [
    "# Merge dataset1 and dataset2\n",
    "dataset2=dataset2.drop('RowNumber')\n",
    "ANZdataset=dataset1.join(dataset2, 'CustomerId', \"outer\")"
   ]
  },
  {
   "cell_type": "code",
   "execution_count": 6,
   "metadata": {},
   "outputs": [
    {
     "name": "stdout",
     "output_type": "stream",
     "text": [
      "+----------+---------+--------+-----------+---------+------+------+----+-------------+---------+--------------+---------------+------+---------+\n",
      "|CustomerId|RowNumber| Surname|CreditScore|Geography|Gender|7001ag|N008|NumOfProducts|HasCrCard|IsActiveMember|EstimatedSalary|Exited|  Balance|\n",
      "+----------+---------+--------+-----------+---------+------+------+----+-------------+---------+--------------+---------------+------+---------+\n",
      "|  15577398|     7971|  Ch'eng|        850|       NZ|  Male|    30|   6|            1|        1|             1|      188809.23|     0| 86449.39|\n",
      "|  15580149|     8828|  Fowler|        638|Australia|  Male|    41|   7|            2|        1|             0|       43889.41|     0|        0|\n",
      "|  15581295|     5625|  Ch'ien|        617|Australia|Female|    45|   1|            1|        1|             0|      143298.06|     0|        0|\n",
      "|  15588350|      639|McIntyre|        744|       NZ|Female|    43|  10|            1|        0|             1|       24234.11|     0|147832.15|\n",
      "|  15593555|     4033|Chinedum|        430|       NZ|  Male|    38|   9|            2|        1|             1|       12050.77|     0|        0|\n",
      "|  15596493|     1321|  Wisdom|        687|       NZ|Female|    47|   7|            2|        1|             1|      177624.01|     0|        0|\n",
      "|  15601503|     5630|Tokaryev|        578|Australia|  Male|    28|   4|            2|        0|             0|        6947.09|     0|        0|\n",
      "|  15606267|     2379|  Wilson|        622|       NZ|Female|    38|   4|            1|        1|             1|      110457.99|     0| 98640.74|\n",
      "|  15609070|     7156| Findlay|        515|Australia|  Male|    45|   7|            3|        1|             1|       39288.11|     1| 120961.5|\n",
      "|  15624013|     9252| Maxwell|        541|       NZ|Female|    39|   6|            1|        1|             0|       25289.23|     0|109844.81|\n",
      "|  15637979|      757|  Fuller|        664|Australia|Female|    36|   2|            2|        1|             0|       78140.75|     0|127160.78|\n",
      "|  15645637|     9179| Huggins|        798|Australia|Female|    39|   6|            1|        1|             1|      164248.33|     0|119787.76|\n",
      "|  15648032|     9873|   Young|        588|Australia|  Male|    37|   2|            2|        0|             1|      187816.59|     0|        0|\n",
      "|  15653147|     7277|   Boyle|        594|       NZ|  Male|    35|   2|            1|        1|             1|       65361.66|     0|133853.27|\n",
      "|  15656937|     9071|Johnston|        468|Australia|  Male|    26|   1|            1|        1|             0|       64436.16|     0|131643.25|\n",
      "|  15662884|     3841|  Naylor|        739|Australia|  Male|    58|   1|            1|        0|             1|      160122.66|     1|110597.76|\n",
      "|  15663386|     4098|    Tuan|        597|Australia|Female|    26|   7|            2|        1|             0|       110253.2|     0|        0|\n",
      "|  15667971|     5819|Shepherd|        592|Australia|Female|    34|   6|            2|        1|             1|      102628.98|     0|102143.93|\n",
      "|  15675888|     6398|  Austin|        550|Australia|Female|    33|   9|            1|        1|             1|      103608.06|     0| 72788.03|\n",
      "|  15675963|     7788|Padovano|        627|       NZ|Female|    57|   9|            2|        1|             1|      107712.42|     0|        0|\n",
      "+----------+---------+--------+-----------+---------+------+------+----+-------------+---------+--------------+---------------+------+---------+\n",
      "only showing top 20 rows\n",
      "\n"
     ]
    }
   ],
   "source": [
    "ANZdataset.show()"
   ]
  },
  {
   "cell_type": "markdown",
   "metadata": {},
   "source": [
    "# (format datasets for data understanding)"
   ]
  },
  {
   "cell_type": "code",
   "execution_count": 7,
   "metadata": {},
   "outputs": [
    {
     "data": {
      "text/plain": [
       "[Row(CustomerId='15577398', RowNumber='7971', Surname=\"Ch'eng\", CreditScore='850', Geography='NZ', Gender='Male', Age='30', Tenure='6', NumOfProducts='1', HasCrCard='1', IsActiveMember='1', EstimatedSalary='188809.23', Exited='0', Balance='86449.39')]"
      ]
     },
     "execution_count": 7,
     "metadata": {},
     "output_type": "execute_result"
    }
   ],
   "source": [
    "# Rename the variables\n",
    "ANZdataset=ANZdataset.withColumnRenamed('7001ag', 'Age')\n",
    "ANZdataset=ANZdataset.withColumnRenamed('N008', 'Tenure')\n",
    "# Showing top 20 rows results in a mess, so let's just grab the first row.\n",
    "ANZdataset.head(1)"
   ]
  },
  {
   "cell_type": "code",
   "execution_count": 8,
   "metadata": {},
   "outputs": [
    {
     "name": "stdout",
     "output_type": "stream",
     "text": [
      "+----------+---------+--------+-----------+---+------+-------------+---------+--------------+---------------+------+---------+--------+-----------+\n",
      "|CustomerId|RowNumber| Surname|CreditScore|Age|Tenure|NumOfProducts|HasCrCard|IsActiveMember|EstimatedSalary|Exited|  Balance|IsFemale|IsAustralia|\n",
      "+----------+---------+--------+-----------+---+------+-------------+---------+--------------+---------------+------+---------+--------+-----------+\n",
      "|  15577398|     7971|  Ch'eng|        850| 30|     6|            1|        1|             1|      188809.23|     0| 86449.39|     0.0|        0.0|\n",
      "|  15580149|     8828|  Fowler|        638| 41|     7|            2|        1|             0|       43889.41|     0|        0|     0.0|        1.0|\n",
      "|  15581295|     5625|  Ch'ien|        617| 45|     1|            1|        1|             0|      143298.06|     0|        0|     1.0|        1.0|\n",
      "|  15588350|      639|McIntyre|        744| 43|    10|            1|        0|             1|       24234.11|     0|147832.15|     1.0|        0.0|\n",
      "|  15593555|     4033|Chinedum|        430| 38|     9|            2|        1|             1|       12050.77|     0|        0|     0.0|        0.0|\n",
      "|  15596493|     1321|  Wisdom|        687| 47|     7|            2|        1|             1|      177624.01|     0|        0|     1.0|        0.0|\n",
      "|  15601503|     5630|Tokaryev|        578| 28|     4|            2|        0|             0|        6947.09|     0|        0|     0.0|        1.0|\n",
      "|  15606267|     2379|  Wilson|        622| 38|     4|            1|        1|             1|      110457.99|     0| 98640.74|     1.0|        0.0|\n",
      "|  15609070|     7156| Findlay|        515| 45|     7|            3|        1|             1|       39288.11|     1| 120961.5|     0.0|        1.0|\n",
      "|  15624013|     9252| Maxwell|        541| 39|     6|            1|        1|             0|       25289.23|     0|109844.81|     1.0|        0.0|\n",
      "|  15637979|      757|  Fuller|        664| 36|     2|            2|        1|             0|       78140.75|     0|127160.78|     1.0|        1.0|\n",
      "|  15645637|     9179| Huggins|        798| 39|     6|            1|        1|             1|      164248.33|     0|119787.76|     1.0|        1.0|\n",
      "|  15648032|     9873|   Young|        588| 37|     2|            2|        0|             1|      187816.59|     0|        0|     0.0|        1.0|\n",
      "|  15653147|     7277|   Boyle|        594| 35|     2|            1|        1|             1|       65361.66|     0|133853.27|     0.0|        0.0|\n",
      "|  15656937|     9071|Johnston|        468| 26|     1|            1|        1|             0|       64436.16|     0|131643.25|     0.0|        1.0|\n",
      "|  15662884|     3841|  Naylor|        739| 58|     1|            1|        0|             1|      160122.66|     1|110597.76|     0.0|        1.0|\n",
      "|  15663386|     4098|    Tuan|        597| 26|     7|            2|        1|             0|       110253.2|     0|        0|     1.0|        1.0|\n",
      "|  15667971|     5819|Shepherd|        592| 34|     6|            2|        1|             1|      102628.98|     0|102143.93|     1.0|        1.0|\n",
      "|  15675888|     6398|  Austin|        550| 33|     9|            1|        1|             1|      103608.06|     0| 72788.03|     1.0|        1.0|\n",
      "|  15675963|     7788|Padovano|        627| 57|     9|            2|        1|             1|      107712.42|     0|        0|     1.0|        0.0|\n",
      "+----------+---------+--------+-----------+---+------+-------------+---------+--------------+---------------+------+---------+--------+-----------+\n",
      "only showing top 20 rows\n",
      "\n"
     ]
    }
   ],
   "source": [
    "# Convert categorical variables to numerical variables\n",
    "from pyspark.ml.feature import StringIndexer\n",
    "\n",
    "GenderIndexer = StringIndexer(inputCol=\"Gender\", outputCol=\"IsFemale\")\n",
    "ANZdataset = GenderIndexer.fit(ANZdataset).transform(ANZdataset)\n",
    "GeographyIndexer = StringIndexer(inputCol=\"Geography\", outputCol=\"IsAustralia\")\n",
    "ANZdataset = GeographyIndexer.fit(ANZdataset).transform(ANZdataset)\n",
    "\n",
    "# Delete the original categorical variables.\n",
    "ANZdataset=ANZdataset.drop('Gender')\n",
    "ANZdataset=ANZdataset.drop('Geography')\n",
    "\n",
    "ANZdataset.show()"
   ]
  },
  {
   "cell_type": "code",
   "execution_count": 9,
   "metadata": {},
   "outputs": [
    {
     "name": "stdout",
     "output_type": "stream",
     "text": [
      "root\n",
      " |-- CustomerId: string (nullable = true)\n",
      " |-- RowNumber: string (nullable = true)\n",
      " |-- Surname: string (nullable = true)\n",
      " |-- CreditScore: string (nullable = true)\n",
      " |-- Age: string (nullable = true)\n",
      " |-- Tenure: string (nullable = true)\n",
      " |-- NumOfProducts: string (nullable = true)\n",
      " |-- HasCrCard: string (nullable = true)\n",
      " |-- IsActiveMember: string (nullable = true)\n",
      " |-- EstimatedSalary: string (nullable = true)\n",
      " |-- Exited: string (nullable = true)\n",
      " |-- Balance: string (nullable = true)\n",
      " |-- IsFemale: double (nullable = true)\n",
      " |-- IsAustralia: double (nullable = true)\n",
      "\n"
     ]
    }
   ],
   "source": [
    "# Use print schema to look at the format of the data. \n",
    "ANZdataset.printSchema()"
   ]
  },
  {
   "cell_type": "code",
   "execution_count": 10,
   "metadata": {},
   "outputs": [
    {
     "data": {
      "text/plain": [
       "[Row(CustomerId='15577398', RowNumber='7971', Surname=\"Ch'eng\", CreditScore='850', Age='30', Tenure='6', NumOfProducts='1', HasCrCard='1', IsActiveMember='1', EstimatedSalary='188809.23', Exited='0', Balance='86449.39', IsFemale=0.0, IsAustralia=0.0)]"
      ]
     },
     "execution_count": 10,
     "metadata": {},
     "output_type": "execute_result"
    }
   ],
   "source": [
    "ANZdataset.head(1)"
   ]
  },
  {
   "cell_type": "code",
   "execution_count": 11,
   "metadata": {},
   "outputs": [
    {
     "name": "stdout",
     "output_type": "stream",
     "text": [
      "root\n",
      " |-- CustomerId: integer (nullable = true)\n",
      " |-- RowNumber: integer (nullable = true)\n",
      " |-- Surname: string (nullable = true)\n",
      " |-- CreditScore: integer (nullable = true)\n",
      " |-- Age: integer (nullable = true)\n",
      " |-- Tenure: integer (nullable = true)\n",
      " |-- NumOfProducts: integer (nullable = true)\n",
      " |-- HasCrCard: integer (nullable = true)\n",
      " |-- IsActiveMember: integer (nullable = true)\n",
      " |-- EstimatedSalary: double (nullable = true)\n",
      " |-- Exited: integer (nullable = true)\n",
      " |-- Balance: double (nullable = true)\n",
      " |-- IsFemale: integer (nullable = true)\n",
      " |-- IsAustralia: integer (nullable = true)\n",
      "\n"
     ]
    }
   ],
   "source": [
    "# Import the relevant types and change the format of the data\n",
    "from pyspark.sql.types import (BinaryType,StringType,IntegerType,DoubleType)\n",
    "# Then create a variable with the correct structure.\n",
    "ANZdataset = ANZdataset.withColumn(\"CustomerId\", ANZdataset[\"CustomerId\"].cast(IntegerType()))\n",
    "ANZdataset = ANZdataset.withColumn(\"RowNumber\", ANZdataset[\"RowNumber\"].cast(IntegerType()))\n",
    "ANZdataset = ANZdataset.withColumn(\"CreditScore\", ANZdataset[\"CreditScore\"].cast(IntegerType()))\n",
    "ANZdataset = ANZdataset.withColumn(\"Age\", ANZdataset[\"Age\"].cast(IntegerType()))\n",
    "ANZdataset = ANZdataset.withColumn(\"Tenure\", ANZdataset[\"Tenure\"].cast(IntegerType()))\n",
    "ANZdataset = ANZdataset.withColumn(\"NumOfProducts\", ANZdataset[\"NumOfProducts\"].cast(IntegerType()))\n",
    "ANZdataset = ANZdataset.withColumn(\"HasCrCard\", ANZdataset[\"HasCrCard\"].cast(IntegerType()))\n",
    "ANZdataset = ANZdataset.withColumn(\"IsActiveMember\", ANZdataset[\"IsActiveMember\"].cast(IntegerType()))\n",
    "ANZdataset = ANZdataset.withColumn(\"EstimatedSalary\", ANZdataset[\"EstimatedSalary\"].cast(DoubleType()))\n",
    "ANZdataset = ANZdataset.withColumn(\"Exited\", ANZdataset[\"Exited\"].cast(IntegerType()))\n",
    "ANZdataset = ANZdataset.withColumn(\"Balance\", ANZdataset[\"Balance\"].cast(DoubleType()))\n",
    "ANZdataset = ANZdataset.withColumn(\"IsFemale\", ANZdataset[\"IsFemale\"].cast(StringType()))\n",
    "ANZdataset = ANZdataset.withColumn(\"IsAustralia\", ANZdataset[\"IsAustralia\"].cast(StringType()))\n",
    "ANZdataset = ANZdataset.withColumn(\"IsFemale\", ANZdataset[\"IsFemale\"].cast(IntegerType()))\n",
    "ANZdataset = ANZdataset.withColumn(\"IsAustralia\", ANZdataset[\"IsAustralia\"].cast(IntegerType()))\n",
    "\n",
    "ANZdataset.printSchema()"
   ]
  },
  {
   "cell_type": "code",
   "execution_count": 12,
   "metadata": {},
   "outputs": [
    {
     "data": {
      "text/plain": [
       "[Row(CustomerId=15577398, RowNumber=7971, Surname=\"Ch'eng\", CreditScore=850, Age=30, Tenure=6, NumOfProducts=1, HasCrCard=1, IsActiveMember=1, EstimatedSalary=188809.23, Exited=0, Balance=86449.39, IsFemale=0, IsAustralia=0),\n",
       " Row(CustomerId=15580149, RowNumber=8828, Surname='Fowler', CreditScore=638, Age=41, Tenure=7, NumOfProducts=2, HasCrCard=1, IsActiveMember=0, EstimatedSalary=43889.41, Exited=0, Balance=0.0, IsFemale=0, IsAustralia=1),\n",
       " Row(CustomerId=15581295, RowNumber=5625, Surname=\"Ch'ien\", CreditScore=617, Age=45, Tenure=1, NumOfProducts=1, HasCrCard=1, IsActiveMember=0, EstimatedSalary=143298.06, Exited=0, Balance=0.0, IsFemale=1, IsAustralia=1)]"
      ]
     },
     "execution_count": 12,
     "metadata": {},
     "output_type": "execute_result"
    }
   ],
   "source": [
    "ANZdataset.head(3)"
   ]
  },
  {
   "cell_type": "markdown",
   "metadata": {},
   "source": [
    "# Data Understanding"
   ]
  },
  {
   "cell_type": "code",
   "execution_count": 13,
   "metadata": {},
   "outputs": [],
   "source": [
    "# We can import SQL functions to show the average of a variable. \n",
    "from pyspark.sql.functions import countDistinct,avg,stddev,format_number"
   ]
  },
  {
   "cell_type": "code",
   "execution_count": 14,
   "metadata": {},
   "outputs": [
    {
     "data": {
      "image/png": "[encoded data removed]",
      "text/plain": [
       "<Figure size 432x288 with 1 Axes>"
      ]
     },
     "metadata": {},
     "output_type": "display_data"
    },
    {
     "name": "stdout",
     "output_type": "stream",
     "text": [
      "+------+--------------------------+\n",
      "|Exited|count(DISTINCT CustomerId)|\n",
      "+------+--------------------------+\n",
      "|     1|                      2037|\n",
      "|     0|                      7963|\n",
      "+------+--------------------------+\n",
      "\n"
     ]
    }
   ],
   "source": [
    "# Import the relevant Python libraries.\n",
    "import numpy as np\n",
    "import matplotlib.pyplot as plt\n",
    "%matplotlib inline\n",
    "\n",
    "# Convert Exited to an array using Numpy and plot it using pyplot. \n",
    "ExitedArr = np.array(ANZdataset.select('Exited').collect())\n",
    "## Exited\n",
    "plt.hist(ExitedArr)\n",
    "plt.show()\n",
    "\n",
    "ANZdataset.groupBy(\"Exited\").agg(countDistinct(\"CustomerId\")).show()"
   ]
  },
  {
   "cell_type": "code",
   "execution_count": 15,
   "metadata": {},
   "outputs": [
    {
     "name": "stdout",
     "output_type": "stream",
     "text": [
      "+------------------+----+----+\n",
      "|IsAustralia_Exited|   0|   1|\n",
      "+------------------+----+----+\n",
      "|                 1|3759|1227|\n",
      "|                 0|4204| 810|\n",
      "+------------------+----+----+\n",
      "\n"
     ]
    },
    {
     "data": {
      "image/png": "[encoded data removed]",
      "text/plain": [
       "<Figure size 258.375x216 with 1 Axes>"
      ]
     },
     "metadata": {},
     "output_type": "display_data"
    }
   ],
   "source": [
    "import seaborn as sns\n",
    "# Convert pyspark df to pandas df and plot it using seaborn. \n",
    "pandas_df = ANZdataset.toPandas()\n",
    "\n",
    "## Geography\n",
    "g = sns.FacetGrid(pandas_df,hue = 'Exited')\n",
    "(g.map(plt.hist,'IsAustralia',edgecolor=\"w\").add_legend())\n",
    "\n",
    "ANZdataset.stat.crosstab(\"IsAustralia\", \"Exited\").show()"
   ]
  },
  {
   "cell_type": "code",
   "execution_count": 16,
   "metadata": {},
   "outputs": [
    {
     "name": "stdout",
     "output_type": "stream",
     "text": [
      "+---------------------+----+----+\n",
      "|IsActiveMember_Exited|   0|   1|\n",
      "+---------------------+----+----+\n",
      "|                    1|4416| 735|\n",
      "|                    0|3547|1302|\n",
      "+---------------------+----+----+\n",
      "\n"
     ]
    },
    {
     "data": {
      "image/png": "[encoded data removed]",
      "text/plain": [
       "<Figure size 258.375x216 with 1 Axes>"
      ]
     },
     "metadata": {},
     "output_type": "display_data"
    }
   ],
   "source": [
    "## IsActiveMember\n",
    "g = sns.FacetGrid(pandas_df,hue = 'Exited')\n",
    "(g.map(plt.hist,'IsActiveMember',edgecolor=\"w\").add_legend())\n",
    "\n",
    "ANZdataset.stat.crosstab(\"IsActiveMember\", \"Exited\").show()"
   ]
  },
  {
   "cell_type": "code",
   "execution_count": 17,
   "metadata": {},
   "outputs": [
    {
     "name": "stdout",
     "output_type": "stream",
     "text": [
      "+-----------------+\n",
      "|      Average Age|\n",
      "+-----------------+\n",
      "|38.92038407681536|\n",
      "+-----------------+\n",
      "\n",
      "+------+-----------------+\n",
      "|Exited|         avg(Age)|\n",
      "+------+-----------------+\n",
      "|     1| 44.8379970544919|\n",
      "|     0|37.40623037306871|\n",
      "+------+-----------------+\n",
      "\n"
     ]
    },
    {
     "data": {
      "image/png": "[encoded data removed]",
      "text/plain": [
       "<Figure size 258.375x216 with 1 Axes>"
      ]
     },
     "metadata": {},
     "output_type": "display_data"
    }
   ],
   "source": [
    "## Age\n",
    "g = sns.FacetGrid(pandas_df,hue = 'Exited')\n",
    "(g.map(plt.hist,'Age',edgecolor=\"w\").add_legend())\n",
    "\n",
    "ANZdataset.select(avg('Age').alias('Average Age')).show()\n",
    "ANZdataset.groupBy('Exited').mean('Age').show()"
   ]
  },
  {
   "cell_type": "code",
   "execution_count": 18,
   "metadata": {},
   "outputs": [
    {
     "data": {
      "image/png": "[encoded data removed]",
      "text/plain": [
       "<Figure size 432x288 with 1 Axes>"
      ]
     },
     "metadata": {},
     "output_type": "display_data"
    }
   ],
   "source": [
    "BalanceArr = np.array(ANZdataset.select('Balance').collect())\n",
    "## Balance\n",
    "plt.hist(BalanceArr)\n",
    "plt.show()"
   ]
  },
  {
   "cell_type": "code",
   "execution_count": 19,
   "metadata": {},
   "outputs": [
    {
     "name": "stdout",
     "output_type": "stream",
     "text": [
      "+--------+------+-----------------+\n",
      "|IsFemale|Exited| avg(CreditScore)|\n",
      "+--------+------+-----------------+\n",
      "|       1|     0|652.1524676850764|\n",
      "|       1|     1| 646.883230904302|\n",
      "|       0|     0|651.6297433647729|\n",
      "|       0|     1|643.4086859688196|\n",
      "+--------+------+-----------------+\n",
      "\n"
     ]
    }
   ],
   "source": [
    "## Credit Score by Gender\n",
    "ANZdataset.groupby('IsFemale','Exited').mean('CreditScore').show()"
   ]
  },
  {
   "cell_type": "code",
   "execution_count": 20,
   "metadata": {},
   "outputs": [
    {
     "name": "stdout",
     "output_type": "stream",
     "text": [
      "+------------------------+\n",
      "|Average Estimated Salary|\n",
      "+------------------------+\n",
      "|      100051.53988099998|\n",
      "+------------------------+\n",
      "\n",
      "+------+--------------------+\n",
      "|Exited|avg(EstimatedSalary)|\n",
      "+------+--------------------+\n",
      "|     1|  101465.67753068243|\n",
      "|     0|   99689.79199799072|\n",
      "+------+--------------------+\n",
      "\n"
     ]
    },
    {
     "data": {
      "image/png": "[encoded data removed]",
      "text/plain": [
       "<Figure size 258.375x216 with 1 Axes>"
      ]
     },
     "metadata": {},
     "output_type": "display_data"
    }
   ],
   "source": [
    "## Estimated Salary\n",
    "g = sns.FacetGrid(pandas_df,hue = 'Exited')\n",
    "(g.map(plt.hist,'EstimatedSalary',edgecolor=\"w\").add_legend())\n",
    "\n",
    "ANZdataset.select(avg('EstimatedSalary').alias('Average Estimated Salary')).show()\n",
    "ANZdataset.groupBy('Exited').mean('EstimatedSalary').show()"
   ]
  },
  {
   "cell_type": "code",
   "execution_count": 21,
   "metadata": {},
   "outputs": [
    {
     "name": "stdout",
     "output_type": "stream",
     "text": [
      "+----------+---------+-------+-----------+---+------+-------------+---------+--------------+---------------+------+-------+--------+-----------+\n",
      "|CustomerId|RowNumber|Surname|CreditScore|Age|Tenure|NumOfProducts|HasCrCard|IsActiveMember|EstimatedSalary|Exited|Balance|IsFemale|IsAustralia|\n",
      "+----------+---------+-------+-----------+---+------+-------------+---------+--------------+---------------+------+-------+--------+-----------+\n",
      "|         0|        0|      0|          0|  2|    10|            0|        0|             0|              0|     0|      0|       0|          0|\n",
      "+----------+---------+-------+-----------+---+------+-------------+---------+--------------+---------------+------+-------+--------+-----------+\n",
      "\n"
     ]
    }
   ],
   "source": [
    "# Count missing values\n",
    "from pyspark.sql.functions import col,sum\n",
    "ANZdataset.select(*(sum(col(c).isNull().cast(\"int\")).alias(c) for c in ANZdataset.columns)).show()"
   ]
  },
  {
   "cell_type": "markdown",
   "metadata": {},
   "source": [
    "# Data Preparation"
   ]
  },
  {
   "cell_type": "code",
   "execution_count": 22,
   "metadata": {},
   "outputs": [
    {
     "name": "stdout",
     "output_type": "stream",
     "text": [
      "+----------+---------+-------+-----------+---+------+-------------+---------+--------------+---------------+------+-------+--------+-----------+\n",
      "|CustomerId|RowNumber|Surname|CreditScore|Age|Tenure|NumOfProducts|HasCrCard|IsActiveMember|EstimatedSalary|Exited|Balance|IsFemale|IsAustralia|\n",
      "+----------+---------+-------+-----------+---+------+-------------+---------+--------------+---------------+------+-------+--------+-----------+\n",
      "|         0|        0|      0|          0|  0|    10|            0|        0|             0|              0|     0|      0|       0|          0|\n",
      "+----------+---------+-------+-----------+---+------+-------------+---------+--------------+---------------+------+-------+--------+-----------+\n",
      "\n"
     ]
    }
   ],
   "source": [
    "# Drops the entire row if a value from the variable (Age) is missing. \n",
    "ANZdataset = ANZdataset.na.drop(subset='Age')\n",
    "ANZdataset.select(*(sum(col(c).isNull().cast(\"int\")).alias(c) for c in ANZdataset.columns)).show()"
   ]
  },
  {
   "cell_type": "code",
   "execution_count": 23,
   "metadata": {},
   "outputs": [
    {
     "data": {
      "text/plain": [
       "9998"
      ]
     },
     "execution_count": 23,
     "metadata": {},
     "output_type": "execute_result"
    }
   ],
   "source": [
    "ANZdataset.count()"
   ]
  },
  {
   "cell_type": "code",
   "execution_count": 24,
   "metadata": {},
   "outputs": [
    {
     "name": "stdout",
     "output_type": "stream",
     "text": [
      "+-----------------+\n",
      "|      avg(Tenure)|\n",
      "+-----------------+\n",
      "|5.013115738886664|\n",
      "+-----------------+\n",
      "\n"
     ]
    }
   ],
   "source": [
    "ANZdataset.agg({\"Tenure\":\"mean\"}).show()"
   ]
  },
  {
   "cell_type": "code",
   "execution_count": 25,
   "metadata": {},
   "outputs": [
    {
     "name": "stdout",
     "output_type": "stream",
     "text": [
      "+----------+---------+-------+-----------+---+------+-------------+---------+--------------+---------------+------+-------+--------+-----------+\n",
      "|CustomerId|RowNumber|Surname|CreditScore|Age|Tenure|NumOfProducts|HasCrCard|IsActiveMember|EstimatedSalary|Exited|Balance|IsFemale|IsAustralia|\n",
      "+----------+---------+-------+-----------+---+------+-------------+---------+--------------+---------------+------+-------+--------+-----------+\n",
      "|         0|        0|      0|          0|  0|     0|            0|        0|             0|              0|     0|      0|       0|          0|\n",
      "+----------+---------+-------+-----------+---+------+-------------+---------+--------------+---------------+------+-------+--------+-----------+\n",
      "\n"
     ]
    }
   ],
   "source": [
    "# Replace all the missing values in Tenure by 5.\n",
    "ANZdataset = ANZdataset.na.fill(5,subset=['Tenure'])\n",
    "ANZdataset.select(*(sum(col(c).isNull().cast(\"int\")).alias(c) for c in ANZdataset.columns)).show()"
   ]
  },
  {
   "cell_type": "code",
   "execution_count": 26,
   "metadata": {},
   "outputs": [],
   "source": [
    "# Create new variable called HasBalance\n",
    "from pyspark.sql import functions as f\n",
    "ANZdataset = ANZdataset.withColumn('HasBalance', f.when(f.col('Balance') > 0, 1).otherwise(0))\n",
    "ANZdataset = ANZdataset.withColumn(\"HasBalance\", ANZdataset[\"HasBalance\"].cast(StringType()))\n",
    "ANZdataset = ANZdataset.withColumn(\"HasBalance\", ANZdataset[\"HasBalance\"].cast(IntegerType()))"
   ]
  },
  {
   "cell_type": "code",
   "execution_count": 27,
   "metadata": {},
   "outputs": [
    {
     "data": {
      "text/plain": [
       "[Row(CustomerId=15634602, RowNumber=1, Surname='Hargrave', CreditScore=619, Age=42, Tenure=2, NumOfProducts=1, HasCrCard=1, IsActiveMember=1, EstimatedSalary=101348.88, Exited=1, Balance=0.0, IsFemale=1, IsAustralia=0, HasBalance=0),\n",
       " Row(CustomerId=15647311, RowNumber=2, Surname='Hill', CreditScore=608, Age=41, Tenure=1, NumOfProducts=1, HasCrCard=0, IsActiveMember=1, EstimatedSalary=112542.58, Exited=0, Balance=83807.86, IsFemale=1, IsAustralia=1, HasBalance=1),\n",
       " Row(CustomerId=15619304, RowNumber=3, Surname='Onio', CreditScore=502, Age=42, Tenure=8, NumOfProducts=3, HasCrCard=1, IsActiveMember=0, EstimatedSalary=113931.57, Exited=1, Balance=159660.8, IsFemale=1, IsAustralia=0, HasBalance=1)]"
      ]
     },
     "execution_count": 27,
     "metadata": {},
     "output_type": "execute_result"
    }
   ],
   "source": [
    "ANZdataset.head(3)"
   ]
  },
  {
   "cell_type": "code",
   "execution_count": 28,
   "metadata": {},
   "outputs": [
    {
     "data": {
      "text/plain": [
       "1    7961\n",
       "0    7961\n",
       "Name: Exited, dtype: int64"
      ]
     },
     "execution_count": 28,
     "metadata": {},
     "output_type": "execute_result"
    }
   ],
   "source": [
    "# Convert pyspark df to pandas df.\n",
    "pandas_df = ANZdataset.toPandas()\n",
    "\n",
    "\n",
    "# Up-sampling the minority class\n",
    "from sklearn.utils import resample\n",
    "import pandas as pd\n",
    "majority = pandas_df[pandas_df['Exited']==0]\n",
    "minority = pandas_df[pandas_df['Exited']==1]\n",
    " \n",
    "minority_upsampled = resample(minority,\n",
    "replace=True,\n",
    "n_samples=7961, \n",
    "random_state=42) \n",
    "# Combine resampled results\n",
    "pandas_df = pd.concat([majority, minority_upsampled])\n",
    "# After balance the churn distribution\n",
    "pandas_df['Exited'].value_counts()"
   ]
  },
  {
   "cell_type": "code",
   "execution_count": 29,
   "metadata": {},
   "outputs": [
    {
     "name": "stdout",
     "output_type": "stream",
     "text": [
      "root\n",
      " |-- CustomerId: long (nullable = true)\n",
      " |-- RowNumber: long (nullable = true)\n",
      " |-- Surname: string (nullable = true)\n",
      " |-- CreditScore: long (nullable = true)\n",
      " |-- Age: long (nullable = true)\n",
      " |-- Tenure: long (nullable = true)\n",
      " |-- NumOfProducts: long (nullable = true)\n",
      " |-- HasCrCard: long (nullable = true)\n",
      " |-- IsActiveMember: long (nullable = true)\n",
      " |-- EstimatedSalary: double (nullable = true)\n",
      " |-- Exited: long (nullable = true)\n",
      " |-- Balance: double (nullable = true)\n",
      " |-- IsFemale: long (nullable = true)\n",
      " |-- IsAustralia: long (nullable = true)\n",
      " |-- HasBalance: long (nullable = true)\n",
      "\n"
     ]
    }
   ],
   "source": [
    "ANZdataset = spark.createDataFrame(pandas_df)\n",
    "ANZdataset.printSchema()"
   ]
  },
  {
   "cell_type": "markdown",
   "metadata": {},
   "source": [
    "# Data Transformation "
   ]
  },
  {
   "cell_type": "code",
   "execution_count": 30,
   "metadata": {},
   "outputs": [
    {
     "name": "stdout",
     "output_type": "stream",
     "text": [
      "                 CreditScore       Age    Tenure  NumOfProducts  HasCrCard  IsActiveMember  EstimatedSalary    Exited   Balance  HasBalance  IsFemale  IsAustralia\n",
      "CreditScore         1.000000 -0.012896  0.002075       0.006440   0.002007        0.019386        -0.017789 -0.044348  0.006569    0.005985  0.013058     0.016692\n",
      "Age                -0.012896  1.000000 -0.017840      -0.024192  -0.022835        0.011275        -0.002979  0.352809  0.049751    0.056941  0.039370     0.052799\n",
      "Tenure              0.002075 -0.017840  1.000000       0.020523   0.022293       -0.030113         0.024247 -0.014274  0.002899    0.000615 -0.010655    -0.005850\n",
      "NumOfProducts       0.006440 -0.024192  0.020523       1.000000  -0.010481        0.031684         0.016518 -0.049429 -0.184560   -0.200654  0.030357    -0.006632\n",
      "HasCrCard           0.002007 -0.022835  0.022293      -0.010481   1.000000       -0.021857        -0.017078 -0.011532 -0.005866   -0.008175 -0.015398    -0.006114\n",
      "IsActiveMember      0.019386  0.011275 -0.030113       0.031684  -0.021857        1.000000        -0.004832 -0.190804 -0.030104   -0.020526 -0.022090    -0.025449\n",
      "EstimatedSalary    -0.017789 -0.002979  0.024247       0.016518  -0.017078       -0.004832         1.000000  0.012296 -0.000064    0.004537  0.016277    -0.007140\n",
      "Exited             -0.044348  0.352809 -0.014274      -0.049429  -0.011532       -0.190804         0.012296  1.000000  0.153691    0.158930  0.121752     0.133546\n",
      "Balance             0.006569  0.049751  0.002899      -0.184560  -0.005866       -0.030104        -0.000064  0.153691  1.000000    0.913310 -0.012154     0.259012\n",
      "HasBalance          0.005985  0.056941  0.000615      -0.200654  -0.008175       -0.020526         0.004537  0.158930  0.913310    1.000000  0.001431     0.283803\n",
      "IsFemale            0.013058  0.039370 -0.010655       0.030357  -0.015398       -0.022090         0.016277  0.121752 -0.012154    0.001431  1.000000     0.006865\n",
      "IsAustralia         0.016692  0.052799 -0.005850      -0.006632  -0.006114       -0.025449        -0.007140  0.133546  0.259012    0.283803  0.006865     1.000000\n"
     ]
    }
   ],
   "source": [
    "from pyspark.mllib.stat import Statistics \n",
    "import pandas as pd\n",
    "num_cols = ['CreditScore','Age','Tenure','NumOfProducts','HasCrCard','IsActiveMember','EstimatedSalary','Exited','Balance','HasBalance','IsFemale','IsAustralia']\n",
    "corr_data = ANZdataset.select(num_cols)\n",
    "col_names = corr_data.columns\n",
    "features = corr_data.rdd.map(lambda row: row[0:]) \n",
    "corr_mat=Statistics.corr(features, method=\"pearson\") \n",
    "corr_df = pd.DataFrame(corr_mat)\n",
    "corr_df.index, corr_df.columns = col_names, col_names\n",
    "print(corr_df.to_string())"
   ]
  },
  {
   "cell_type": "code",
   "execution_count": 31,
   "metadata": {},
   "outputs": [],
   "source": [
    "# Reduce the data\n",
    "ANZdataset=ANZdataset.drop('CustomerID')\n",
    "ANZdataset=ANZdataset.drop('RowNumber')\n",
    "ANZdataset=ANZdataset.drop('Surname')\n",
    "ANZdataset=ANZdataset.drop('Balance')"
   ]
  },
  {
   "cell_type": "code",
   "execution_count": 32,
   "metadata": {},
   "outputs": [
    {
     "name": "stdout",
     "output_type": "stream",
     "text": [
      "+---------------------+---------------------+\n",
      "|skewness(CreditScore)|kurtosis(CreditScore)|\n",
      "+---------------------+---------------------+\n",
      "| -0.09238938244923973|  -0.3804100907598933|\n",
      "+---------------------+---------------------+\n",
      "\n",
      "+-----------------+------------------+\n",
      "|    skewness(Age)|     kurtosis(Age)|\n",
      "+-----------------+------------------+\n",
      "|0.598948354144074|0.3284004476679203|\n",
      "+-----------------+------------------+\n",
      "\n",
      "+-------------------------+-------------------------+\n",
      "|skewness(EstimatedSalary)|kurtosis(EstimatedSalary)|\n",
      "+-------------------------+-------------------------+\n",
      "|     0.003202844484037...|      -1.1866901651124109|\n",
      "+-------------------------+-------------------------+\n",
      "\n"
     ]
    }
   ],
   "source": [
    "# Project the data through statistical transformations \n",
    "# Skewness and Kurtosis\n",
    "from pyspark.sql.functions import col, skewness, kurtosis\n",
    "ANZdataset.select(skewness('CreditScore'),kurtosis('CreditScore')).show()\n",
    "ANZdataset.select(skewness('Age'),kurtosis('Age')).show()\n",
    "ANZdataset.select(skewness('EstimatedSalary'),kurtosis('EstimatedSalary')).show()"
   ]
  },
  {
   "cell_type": "markdown",
   "metadata": {},
   "source": [
    "# (format datasets for Machine Learning)"
   ]
  },
  {
   "cell_type": "code",
   "execution_count": 33,
   "metadata": {},
   "outputs": [
    {
     "data": {
      "text/plain": [
       "[Row(CreditScore=608, Age=41, Tenure=1, NumOfProducts=1, HasCrCard=0, IsActiveMember=1, EstimatedSalary=112542.58, Exited=0, IsFemale=1, IsAustralia=1, HasBalance=1)]"
      ]
     },
     "execution_count": 33,
     "metadata": {},
     "output_type": "execute_result"
    }
   ],
   "source": [
    "# Let's read our data \n",
    "ANZdataset.head(1)"
   ]
  },
  {
   "cell_type": "code",
   "execution_count": 34,
   "metadata": {},
   "outputs": [],
   "source": [
    "## Setting Up a DataFrame for Machine Learning\n",
    "\n",
    "# Import VectorAssembler and Vectors\n",
    "from pyspark.ml.linalg import Vectors\n",
    "from pyspark.ml.feature import VectorAssembler\n",
    "# Create the assembler variable \n",
    "\n",
    "assembler = VectorAssembler(\n",
    "    inputCols=[\"CreditScore\", \"Age\", \"Tenure\", \"NumOfProducts\", \"HasCrCard\", \"IsActiveMember\", \"EstimatedSalary\", \"IsFemale\", \"IsAustralia\", \"HasBalance\"],\n",
    "    outputCol=\"features\")\n",
    "\n",
    "\n",
    "# Transform the data.\n",
    "ANZdataset = assembler.transform(ANZdataset)"
   ]
  },
  {
   "cell_type": "code",
   "execution_count": 35,
   "metadata": {},
   "outputs": [
    {
     "name": "stdout",
     "output_type": "stream",
     "text": [
      "root\n",
      " |-- CreditScore: long (nullable = true)\n",
      " |-- Age: long (nullable = true)\n",
      " |-- Tenure: long (nullable = true)\n",
      " |-- NumOfProducts: long (nullable = true)\n",
      " |-- HasCrCard: long (nullable = true)\n",
      " |-- IsActiveMember: long (nullable = true)\n",
      " |-- EstimatedSalary: double (nullable = true)\n",
      " |-- Exited: long (nullable = true)\n",
      " |-- IsFemale: long (nullable = true)\n",
      " |-- IsAustralia: long (nullable = true)\n",
      " |-- HasBalance: long (nullable = true)\n",
      " |-- features: vector (nullable = true)\n",
      "\n"
     ]
    },
    {
     "data": {
      "text/plain": [
       "[Row(CreditScore=608, Age=41, Tenure=1, NumOfProducts=1, HasCrCard=0, IsActiveMember=1, EstimatedSalary=112542.58, Exited=0, IsFemale=1, IsAustralia=1, HasBalance=1, features=DenseVector([608.0, 41.0, 1.0, 1.0, 0.0, 1.0, 112542.58, 1.0, 1.0, 1.0]))]"
      ]
     },
     "execution_count": 35,
     "metadata": {},
     "output_type": "execute_result"
    }
   ],
   "source": [
    "# Using print schema, you see that the features output column has been added. \n",
    "ANZdataset.printSchema()\n",
    "# You can see that the features column is a dense vector that combines the various features as expected.\n",
    "ANZdataset.head(1)"
   ]
  },
  {
   "cell_type": "code",
   "execution_count": 36,
   "metadata": {},
   "outputs": [
    {
     "name": "stdout",
     "output_type": "stream",
     "text": [
      "+--------------------+------+\n",
      "|            features|Exited|\n",
      "+--------------------+------+\n",
      "|[608.0,41.0,1.0,1...|     0|\n",
      "|[699.0,39.0,1.0,2...|     0|\n",
      "|[850.0,43.0,2.0,1...|     0|\n",
      "|[822.0,50.0,7.0,2...|     0|\n",
      "|[501.0,44.0,4.0,2...|     0|\n",
      "|[684.0,27.0,2.0,1...|     0|\n",
      "|[528.0,31.0,6.0,2...|     0|\n",
      "|[497.0,24.0,3.0,2...|     0|\n",
      "|[476.0,34.0,10.0,...|     0|\n",
      "|[549.0,25.0,5.0,2...|     0|\n",
      "|[635.0,35.0,7.0,2...|     0|\n",
      "|[616.0,45.0,3.0,2...|     0|\n",
      "|[549.0,24.0,9.0,2...|     0|\n",
      "|[587.0,45.0,6.0,1...|     0|\n",
      "|[726.0,24.0,6.0,2...|     0|\n",
      "|[732.0,41.0,8.0,2...|     0|\n",
      "|[636.0,32.0,8.0,2...|     0|\n",
      "|[669.0,46.0,3.0,2...|     0|\n",
      "|[846.0,38.0,5.0,1...|     0|\n",
      "|[577.0,25.0,3.0,2...|     0|\n",
      "+--------------------+------+\n",
      "only showing top 20 rows\n",
      "\n"
     ]
    }
   ],
   "source": [
    "# Select two columns (the feature and predictor).\n",
    "# This is now in the appropriate format to be processed by Spark.\n",
    "final_data = ANZdataset.select(\"features\",'Exited')\n",
    "final_data.show()"
   ]
  },
  {
   "cell_type": "code",
   "execution_count": 37,
   "metadata": {},
   "outputs": [
    {
     "name": "stdout",
     "output_type": "stream",
     "text": [
      "+-------+------------------+\n",
      "|summary|            Exited|\n",
      "+-------+------------------+\n",
      "|  count|             12759|\n",
      "|   mean|0.5002743161689788|\n",
      "| stddev|0.5000195199116055|\n",
      "|    min|                 0|\n",
      "|    max|                 1|\n",
      "+-------+------------------+\n",
      "\n",
      "+-------+------------------+\n",
      "|summary|            Exited|\n",
      "+-------+------------------+\n",
      "|  count|              3163|\n",
      "|   mean|0.4988934555801454|\n",
      "| stddev|0.5000778329978532|\n",
      "|    min|                 0|\n",
      "|    max|                 1|\n",
      "+-------+------------------+\n",
      "\n"
     ]
    }
   ],
   "source": [
    "# Create trainingn and testing set.\n",
    "train_data,test_data = final_data.randomSplit([0.8,0.2])\n",
    "\n",
    "# Let's see our training data.\n",
    "train_data.describe().show()\n",
    "\n",
    "# And our testing data.\n",
    "test_data.describe().show()"
   ]
  },
  {
   "cell_type": "markdown",
   "metadata": {},
   "source": [
    "# Data Mining algorithm selection"
   ]
  },
  {
   "cell_type": "code",
   "execution_count": 38,
   "metadata": {},
   "outputs": [],
   "source": [
    "from pyspark.ml.classification import LogisticRegression,DecisionTreeClassifier,RandomForestClassifier\n",
    "from pyspark.ml import Pipeline"
   ]
  },
  {
   "cell_type": "code",
   "execution_count": 39,
   "metadata": {},
   "outputs": [
    {
     "name": "stdout",
     "output_type": "stream",
     "text": [
      "Logistic Regression\n",
      "0.7592700099554971\n",
      "Decision Tree\n",
      "0.7213999272328908\n",
      "Random Forest\n",
      "0.848633217785562\n"
     ]
    }
   ],
   "source": [
    "## Models\n",
    "LR_ANZ = LogisticRegression(featuresCol='features',labelCol='Exited')\n",
    "DT_ANZ = DecisionTreeClassifier(featuresCol='features',labelCol='Exited')\n",
    "RF_ANZ = RandomForestClassifier(featuresCol='features',labelCol='Exited')\n",
    "# Train model.\n",
    "LR_fit_model = LR_ANZ.fit(train_data)\n",
    "DT_fit_model = DT_ANZ.fit(train_data)\n",
    "RF_fit_model = RF_ANZ.fit(train_data)\n",
    "# Transform test data and make predictions. \n",
    "LR_predictions = LR_fit_model.transform(test_data)\n",
    "DT_predictions = DT_fit_model.transform(test_data)\n",
    "RF_predictions = RF_fit_model.transform(test_data)\n",
    "\n",
    "# Evaluate the model using the binary classifer.\n",
    "from pyspark.ml.evaluation import BinaryClassificationEvaluator\n",
    "LR_evaluation = BinaryClassificationEvaluator(labelCol='Exited')\n",
    "DT_evaluation = BinaryClassificationEvaluator(labelCol='Exited')\n",
    "RF_evaluation = BinaryClassificationEvaluator(labelCol='Exited')\n",
    "# We can then evaluate using AUC (area under the curve). AUC is linked to ROC.\n",
    "print(\"Logistic Regression\")\n",
    "print(LR_evaluation.evaluate(LR_predictions))\n",
    "print(\"Decision Tree\")\n",
    "print(DT_evaluation.evaluate(DT_predictions))\n",
    "print(\"Random Forest\")\n",
    "print(RF_evaluation.evaluate(RF_predictions))"
   ]
  },
  {
   "cell_type": "code",
   "execution_count": 40,
   "metadata": {},
   "outputs": [
    {
     "name": "stdout",
     "output_type": "stream",
     "text": [
      "Random Forest Model\n",
      "0.8886627244485595\n"
     ]
    }
   ],
   "source": [
    "## Tuning the parameters 1\n",
    "RF_ANZ = RandomForestClassifier(featuresCol='features',labelCol='Exited',\n",
    "                                maxDepth=8)\n",
    "RF_fit_model = RF_ANZ.fit(train_data)\n",
    "RF_predictions = RF_fit_model.transform(test_data)\n",
    "RF_evaluation = BinaryClassificationEvaluator(labelCol='Exited')\n",
    "print(\"Random Forest Model\")\n",
    "print(RF_evaluation.evaluate(RF_predictions))"
   ]
  },
  {
   "cell_type": "code",
   "execution_count": 41,
   "metadata": {},
   "outputs": [
    {
     "name": "stdout",
     "output_type": "stream",
     "text": [
      "Random Forest Model\n",
      "0.9841457661137254\n"
     ]
    }
   ],
   "source": [
    "## Tuning the parameters 2\n",
    "RF_ANZ = RandomForestClassifier(featuresCol='features',labelCol='Exited',\n",
    "                                maxDepth=16)\n",
    "RF_fit_model = RF_ANZ.fit(train_data)\n",
    "RF_predictions = RF_fit_model.transform(test_data)\n",
    "RF_evaluation = BinaryClassificationEvaluator(labelCol='Exited')\n",
    "print(\"Random Forest Model\")\n",
    "print(RF_evaluation.evaluate(RF_predictions))"
   ]
  },
  {
   "cell_type": "code",
   "execution_count": 42,
   "metadata": {},
   "outputs": [
    {
     "name": "stdout",
     "output_type": "stream",
     "text": [
      "Random Forest Model\n",
      "0.9841457661137254\n"
     ]
    }
   ],
   "source": [
    "## Tuning the parameters 3\n",
    "RF_ANZ = RandomForestClassifier(featuresCol='features',labelCol='Exited',\n",
    "                                numTrees=20, maxDepth=16)\n",
    "RF_fit_model = RF_ANZ.fit(train_data)\n",
    "RF_predictions = RF_fit_model.transform(test_data)\n",
    "RF_evaluation = BinaryClassificationEvaluator(labelCol='Exited')\n",
    "print(\"Random Forest Model\")\n",
    "print(RF_evaluation.evaluate(RF_predictions))"
   ]
  },
  {
   "cell_type": "code",
   "execution_count": 43,
   "metadata": {},
   "outputs": [
    {
     "name": "stdout",
     "output_type": "stream",
     "text": [
      "Random Forest Model\n",
      "0.98121169231508\n"
     ]
    }
   ],
   "source": [
    "## Tuning the parameters 4\n",
    "RF_ANZ = RandomForestClassifier(featuresCol='features',labelCol='Exited',\n",
    "                                maxDepth=16,impurity=\"entropy\")\n",
    "RF_fit_model = RF_ANZ.fit(train_data)\n",
    "RF_predictions = RF_fit_model.transform(test_data)\n",
    "RF_evaluation = BinaryClassificationEvaluator(labelCol='Exited')\n",
    "print(\"Random Forest Model\")\n",
    "print(RF_evaluation.evaluate(RF_predictions))"
   ]
  },
  {
   "cell_type": "markdown",
   "metadata": {},
   "source": [
    "# Data Mining"
   ]
  },
  {
   "cell_type": "code",
   "execution_count": 44,
   "metadata": {},
   "outputs": [
    {
     "name": "stdout",
     "output_type": "stream",
     "text": [
      "Random Forest Model\n",
      "0.9841457661137254\n"
     ]
    }
   ],
   "source": [
    "# Final Algorithm\n",
    "RF_ANZ = RandomForestClassifier(featuresCol='features',labelCol='Exited',\n",
    "                                maxDepth=16)\n",
    "RF_fit_model = RF_ANZ.fit(train_data)\n",
    "RF_predictions = RF_fit_model.transform(test_data)\n",
    "RF_evaluation = BinaryClassificationEvaluator(labelCol='Exited')\n",
    "print(\"Random Forest Model\")\n",
    "print(RF_evaluation.evaluate(RF_predictions))"
   ]
  },
  {
   "cell_type": "code",
   "execution_count": 45,
   "metadata": {},
   "outputs": [
    {
     "name": "stdout",
     "output_type": "stream",
     "text": [
      "+------+----------+\n",
      "|Exited|prediction|\n",
      "+------+----------+\n",
      "|     0|       1.0|\n",
      "|     0|       0.0|\n",
      "|     0|       0.0|\n",
      "|     1|       1.0|\n",
      "|     1|       1.0|\n",
      "|     1|       1.0|\n",
      "|     1|       0.0|\n",
      "|     1|       1.0|\n",
      "|     1|       1.0|\n",
      "|     1|       1.0|\n",
      "|     1|       1.0|\n",
      "|     0|       0.0|\n",
      "|     0|       0.0|\n",
      "|     0|       0.0|\n",
      "|     0|       0.0|\n",
      "|     0|       0.0|\n",
      "|     0|       0.0|\n",
      "|     0|       0.0|\n",
      "|     0|       0.0|\n",
      "|     0|       0.0|\n",
      "+------+----------+\n",
      "only showing top 20 rows\n",
      "\n"
     ]
    }
   ],
   "source": [
    "#Read first 20 prediction\n",
    "LR_predictions.select('Exited','prediction').show()\n",
    "\n"
   ]
  },
  {
   "cell_type": "code",
   "execution_count": 46,
   "metadata": {},
   "outputs": [
    {
     "data": {
      "text/plain": [
       "SparseVector(10, {0: 0.1609, 1: 0.2899, 2: 0.1005, 3: 0.1539, 4: 0.0238, 5: 0.0404, 6: 0.1498, 7: 0.0247, 8: 0.0216, 9: 0.0344})"
      ]
     },
     "execution_count": 46,
     "metadata": {},
     "output_type": "execute_result"
    }
   ],
   "source": [
    "# Feature Importance\n",
    "RF_fit_model.featureImportances"
   ]
  },
  {
   "cell_type": "markdown",
   "metadata": {},
   "source": [
    "# Interpretation"
   ]
  },
  {
   "cell_type": "code",
   "execution_count": null,
   "metadata": {},
   "outputs": [],
   "source": [
    "import seaborn as sns\n",
    "import pandas as pd\n",
    "# Convert pyspark df to pandas df and plot it using seaborn. \n",
    "pandas_df = ANZdataset.toPandas()\n",
    "\n",
    "age=sns.FacetGrid(pandas_df,hue='Exited',aspect=3)\n",
    "age.map(sns.kdeplot,'Age',shade=True)\n",
    "age.set(xlim=[0,pandas_df['Age'].max()])\n",
    "age.add_legend()\n",
    "\n",
    "ANZdataset.select(avg('Age').alias('Average Age')).show()\n",
    "ANZdataset.groupBy('Exited').mean('Age').show()"
   ]
  },
  {
   "cell_type": "code",
   "execution_count": null,
   "metadata": {},
   "outputs": [],
   "source": [
    "isactivemember=sns.FacetGrid(pandas_df,hue='Exited',aspect=3)\n",
    "isactivemember.map(sns.kdeplot,'IsActiveMember',shade=True)\n",
    "isactivemember.set(xlim=[0,pandas_df['IsActiveMember'].max()])\n",
    "isactivemember.add_legend()"
   ]
  }
 ],
 "metadata": {
  "kernelspec": {
   "display_name": "Python 3",
   "language": "python",
   "name": "python3"
  },
  "language_info": {
   "codemirror_mode": {
    "name": "ipython",
    "version": 3
   },
   "file_extension": ".py",
   "mimetype": "text/x-python",
   "name": "python",
   "nbconvert_exporter": "python",
   "pygments_lexer": "ipython3",
   "version": "3.5.2"
  }
 },
 "nbformat": 4,
 "nbformat_minor": 2
}
